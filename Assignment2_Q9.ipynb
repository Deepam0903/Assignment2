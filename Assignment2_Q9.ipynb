{
 "cells": [
  {
   "cell_type": "markdown",
   "metadata": {},
   "source": [
    "This problem is a classic example of Cryptarithmetic Puzzle. We've used a brute force approach which will look for all the possible combinations.  \n",
    "\n",
    "Our Approach:  \n",
    "1. Assign the words in left, right and create list of unique letters  \n",
    "2. Create a dictory of letters and corresponding numerical value  \n",
    "3. Since the words are read from left --> right, Reverse them and then multiple them by 10s  \n",
    "4.   if the sum of left = right  \n",
    "        then that's the combination we're looking for  \n",
    "        \n",
    "Reference used:\n",
    "https://www.youtube.com/watch?v=HC6Y49iTg1k"
   ]
  },
  {
   "cell_type": "code",
   "execution_count": 1,
   "metadata": {},
   "outputs": [],
   "source": [
    "import itertools\n",
    "\n",
    "def collect_input(word1,word2,word3):\n",
    "    \n",
    "    left = word1.lower() + word2.lower()\n",
    "    right = word3.lower()\n",
    "\n",
    "    leftsidelist = list()\n",
    "\n",
    "    leftsidelist.append(word1.lower())\n",
    "    leftsidelist.append(word2.lower())\n",
    "\n",
    "    setletter = list(set(left+right))\n",
    "    \n",
    "    solve_puzzle(setletter,left,right,leftsidelist)\n",
    "    \n",
    "\n",
    "def solve_puzzle(setletter,left,right,leftsidelist):\n",
    "\n",
    "    digits = range(10)\n",
    "    #Creating a dictionary for all the permutaitons of characters and numbers\n",
    "    for p in itertools.permutations(digits, len(setletter)):\n",
    "        sol = dict(zip(setletter, p))\n",
    "        \n",
    "        #If LHS = RHS then it will print the combination\n",
    "        if sum(get_value(word, sol) for word in leftsidelist) == get_value(right, sol):\n",
    "            print(' + '.join(str(get_value(word, sol)) for word in leftsidelist) + \" = {} ({})\".format(get_value(right, sol), sol))\n"
   ]
  },
  {
   "cell_type": "code",
   "execution_count": 2,
   "metadata": {},
   "outputs": [],
   "source": [
    "def get_value(word, substitution):\n",
    "    s = 0\n",
    "    factor = 1\n",
    "    for letter in reversed(word):\n",
    "        s += factor * substitution[letter]\n",
    "        factor *= 10\n",
    "    return s\n"
   ]
  },
  {
   "cell_type": "code",
   "execution_count": 3,
   "metadata": {},
   "outputs": [
    {
     "name": "stdout",
     "output_type": "stream",
     "text": [
      "1274 + 9663 = 10937 ({'n': 0, 'c': 9, 'l': 3, 'e': 7, 'r': 4, 'b': 2, 'u': 1, 'o': 6})\n",
      "735 + 1448 = 2183 ({'n': 2, 'c': 1, 'l': 8, 'e': 3, 'r': 5, 'b': 7, 'u': 0, 'o': 4})\n",
      "634 + 1559 = 2193 ({'n': 2, 'c': 1, 'l': 9, 'e': 3, 'r': 4, 'b': 6, 'u': 0, 'o': 5})\n",
      "856 + 1339 = 2195 ({'n': 2, 'c': 1, 'l': 9, 'e': 5, 'r': 6, 'b': 8, 'u': 0, 'o': 3})\n",
      "815 + 2446 = 3261 ({'n': 3, 'c': 2, 'l': 6, 'e': 1, 'r': 5, 'b': 8, 'u': 0, 'o': 4})\n",
      "612 + 3779 = 4391 ({'n': 4, 'c': 3, 'l': 9, 'e': 1, 'r': 2, 'b': 6, 'u': 0, 'o': 7})\n",
      "823 + 4669 = 5492 ({'n': 5, 'c': 4, 'l': 9, 'e': 2, 'r': 3, 'b': 8, 'u': 0, 'o': 6})\n",
      "812 + 5779 = 6591 ({'n': 6, 'c': 5, 'l': 9, 'e': 1, 'r': 2, 'b': 8, 'u': 0, 'o': 7})\n"
     ]
    }
   ],
   "source": [
    "collect_input('UBER', 'COOL' , 'UNCLE')"
   ]
  },
  {
   "cell_type": "markdown",
   "metadata": {},
   "source": []
  }
 ],
 "metadata": {
  "kernelspec": {
   "display_name": "Python 3",
   "language": "python",
   "name": "python3"
  },
  "language_info": {
   "codemirror_mode": {
    "name": "ipython",
    "version": 3
   },
   "file_extension": ".py",
   "mimetype": "text/x-python",
   "name": "python",
   "nbconvert_exporter": "python",
   "pygments_lexer": "ipython3",
   "version": "3.7.1"
  }
 },
 "nbformat": 4,
 "nbformat_minor": 2
}
